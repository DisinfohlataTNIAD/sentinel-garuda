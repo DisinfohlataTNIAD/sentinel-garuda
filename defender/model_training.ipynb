# Import Library yang dibutuhkan
import numpy as np
import pandas as pd
import tensorflow as tf
from tensorflow.keras.preprocessing.text import Tokenizer
from tensorflow.keras.preprocessing.sequence import pad_sequences
from tensorflow.keras.models import Sequential
from tensorflow.keras.layers import Embedding, LSTM, Dense, Dropout
from tensorflow.keras.optimizers import Adam
from sklearn.model_selection import train_test_split
from sklearn.preprocessing import LabelEncoder
import matplotlib.pyplot as plt

# Memuat Dataset
# Gantilah 'news_data.csv' dengan path ke dataset yang sesuai
df = pd.read_csv('news_data.csv')

# Menampilkan 5 baris pertama dataset untuk pengecekan
df.head()

# Menyiapkan data
texts = df['text'].values  # Kolom teks (berita)
labels = df['label'].values  # Kolom label (kategori: disinformasi atau bukan)

# Fungsi untuk Tokenisasi dan Padding Teks
def preprocess_text(texts, max_words=10000, max_len=100):
    tokenizer = Tokenizer(num_words=max_words, lower=True, split=' ')
    tokenizer.fit_on_texts(texts)
    sequences = tokenizer.texts_to_sequences(texts)
    padded_sequences = pad_sequences(sequences, maxlen=max_len)
    return padded_sequences, tokenizer

# Preprocess data
texts_prep, tokenizer = preprocess_text(texts)

# Label Encoding untuk target
label_encoder = LabelEncoder()
labels_encoded = label_encoder.fit_transform(labels)

# Membagi data menjadi training dan testing
X_train, X_test, y_train, y_test = train_test_split(texts_prep, labels_encoded, test_size=0.2, random_state=42)

# Membangun Model Klasifikasi Berbasis LSTM
def build_model(input_length, max_words=10000, embedding_dim=100):
    model = Sequential()
    model.add(Embedding(input_dim=max_words, output_dim=embedding_dim, input_length=input_length))
    model.add(LSTM(units=128, return_sequences=True))
    model.add(Dropout(0.5))
    model.add(LSTM(units=64))
    model.add(Dense(units=32, activation='relu'))
    model.add(Dense(units=1, activation='sigmoid'))  # Output binary (disinformasi atau bukan)
    
    model.compile(optimizer=Adam(), loss='binary_crossentropy', metrics=['accuracy'])
    return model

# Membuat Model
model = build_model(input_length=texts_prep.shape[1])

# Melatih Model
history = model.fit(X_train, y_train, epochs=5, batch_size=64, validation_data=(X_test, y_test))

# Evaluasi Model
test_loss, test_acc = model.evaluate(X_test, y_test, verbose=2)
print(f"Test Accuracy: {test_acc:.4f}")
print(f"Test Loss: {test_loss:.4f}")

# Menyimpan Model dan Tokenizer
model.save('disinfo_model.h5')

# Menyimpan Tokenizer
import pickle
with open('tokenizer.pkl', 'wb') as f:
    pickle.dump(tokenizer, f)

# Menyimpan Label Encoder
with open('label_encoder.pkl', 'wb') as f:
    pickle.dump(label_encoder, f)

# Visualisasi Hasil Latihan
plt.plot(history.history['accuracy'], label='accuracy')
plt.plot(history.history['val_accuracy'], label = 'val_accuracy')
plt.xlabel('Epoch')
plt.ylabel('Accuracy')
plt.ylim([0, 1])
plt.legend(loc='lower right')
plt.title('Training and Validation Accuracy')
plt.show()

plt.plot(history.history['loss'], label='loss')
plt.plot(history.history['val_loss'], label = 'val_loss')
plt.xlabel('Epoch')
plt.ylabel('Loss')
plt.ylim([0, 1])
plt.legend(loc='upper right')
plt.title('Training and Validation Loss')
plt.show()
